{
  "cells": [
    {
      "cell_type": "markdown",
      "metadata": {
        "id": "view-in-github",
        "colab_type": "text"
      },
      "source": [
        "<a href=\"https://colab.research.google.com/github/msy7822-ux/FastAPI-on-CloudRun/blob/main/comfyui_colab_ipynb_V2.ipynb\" target=\"_parent\"><img src=\"https://colab.research.google.com/assets/colab-badge.svg\" alt=\"Open In Colab\"/></a>"
      ]
    },
    {
      "cell_type": "markdown",
      "metadata": {
        "id": "aaaaaaaaaa"
      },
      "source": [
        "Git clone the repo and install the requirements. (ignore the pip errors about protobuf)"
      ]
    },
    {
      "cell_type": "code",
      "execution_count": null,
      "metadata": {
        "id": "Y-E-woEBIoGf",
        "colab": {
          "base_uri": "https://localhost:8080/"
        },
        "outputId": "c0b1a98c-1038-4621-aa85-741387dcfd9e"
      },
      "outputs": [
        {
          "output_type": "stream",
          "name": "stdout",
          "text": [
            "Mounted at /content/drive\n"
          ]
        }
      ],
      "source": [
        "from google.colab import drive\n",
        "drive.mount('/content/drive')"
      ]
    },
    {
      "cell_type": "code",
      "execution_count": null,
      "metadata": {
        "id": "bbbbbbbbbb"
      },
      "outputs": [],
      "source": [
        "#@title Environment Setup\n",
        "\n",
        "from pathlib import Path\n",
        "\n",
        "OPTIONS = {}\n",
        "\n",
        "USE_GOOGLE_DRIVE = True  #@param {type:\"boolean\"}\n",
        "UPDATE_COMFY_UI = True  #@param {type:\"boolean\"}\n",
        "WORKSPACE = '/content/drive/MyDrive/ComfyUI-V2'\n",
        "OPTIONS['USE_GOOGLE_DRIVE'] = USE_GOOGLE_DRIVE\n",
        "OPTIONS['UPDATE_COMFY_UI'] = UPDATE_COMFY_UI\n",
        "\n",
        "if OPTIONS['USE_GOOGLE_DRIVE']:\n",
        "    !echo \"Mounting Google Drive...\"\n",
        "    %cd /\n",
        "\n",
        "    from google.colab import drive\n",
        "    drive.mount('/content/drive')\n",
        "\n",
        "    WORKSPACE = \"/content/drive/MyDrive/ComfyUI-V2\"\n",
        "    %cd /content/drive/MyDrive\n",
        "\n",
        "!echo $WORKSPACE/\n",
        "![ ! -d $WORKSPACE ] && echo -= Initial setup ComfyUI =- && git clone https://github.com/comfyanonymous/ComfyUI $WORKSPACE\n",
        "%cd $WORKSPACE\n",
        "\n",
        "if OPTIONS['UPDATE_COMFY_UI']:\n",
        "  !echo -= Updating ComfyUI =-\n",
        "  !git pull\n",
        "\n",
        "!echo -= Install dependencies =-\n",
        "!pip install xformers!=0.0.18 -r requirements.txt --extra-index-url https://download.pytorch.org/whl/cu121 --extra-index-url https://download.pytorch.org/whl/cu118 --extra-index-url https://download.pytorch.org/whl/cu117"
      ]
    },
    {
      "cell_type": "code",
      "execution_count": null,
      "metadata": {
        "id": "ONX4n4woBOk8"
      },
      "outputs": [],
      "source": [
        "# %rm -rf /content/ComfyUI\n",
        "# %rm -rf /content/drive/MyDrive/WORKSPACE"
      ]
    },
    {
      "cell_type": "code",
      "execution_count": null,
      "metadata": {
        "id": "_D5wV2BXpDul",
        "colab": {
          "base_uri": "https://localhost:8080/"
        },
        "outputId": "c963a0da-7fe7-4013-b0d4-cdd4577c3e49"
      },
      "outputs": [
        {
          "output_type": "stream",
          "name": "stdout",
          "text": [
            "\u001b[0m\u001b[01;34mdrive\u001b[0m/  \u001b[01;34msample_data\u001b[0m/\n"
          ]
        }
      ],
      "source": [
        "%ls"
      ]
    },
    {
      "cell_type": "code",
      "execution_count": null,
      "metadata": {
        "id": "zWMwgN6M87PM"
      },
      "outputs": [],
      "source": [
        "# @title ワークディレクトリの移動とライブラリインストール簡易処理(Environment Setupめんどくさい時)\n",
        "\n",
        "WORKSPACE = '/content/drive/MyDrive/ComfyUI-V2'\n",
        "%cd $WORKSPACE\n",
        "\n",
        "!echo -= Install dependenciesz =-\n",
        "!pip install xformers!=0.0.18 -r requirements.txt --extra-index-url https://download.pytorch.org/whl/cu121 --extra-index-url https://download.pytorch.org/whl/cu118 --extra-index-url https://download.pytorch.org/whl/cu117"
      ]
    },
    {
      "cell_type": "code",
      "execution_count": null,
      "metadata": {
        "id": "Poo_1i03kJbI"
      },
      "outputs": [],
      "source": [
        "# @title 拡張機能インストール\n",
        "\n",
        "WORKSPACE = '/content/drive/MyDrive/ComfyUI-V2'\n",
        "CUSTOM_NODES_DIR = '/content/drive/MyDrive/ComfyUI-V2/custom_nodes'\n",
        "KJNODES = '/content/drive/MyDrive/ComfyUI-V2/custom_nodes/ComfyUI-KJNodes'\n",
        "REACTOR_NODES = '/content/drive/MyDrive/ComfyUI-V2/custom_nodes/comfyui-reactor-node'\n",
        "WAS_NODE_SUIT = '/content/drive/MyDrive/ComfyUI-V2/custom_nodes/comfyui-was-node-suite'\n",
        "%cd $CUSTOM_NODES_DIR\n",
        "\n",
        "![ ! -d $KJNODES ] && echo -= Initial setup ComfyUI =- && git clone https://github.com/kijai/ComfyUI-KJNodes.git $KJNODES\n",
        "%cd $KJNODES\n",
        "!pip install -r requirements.txt\n",
        "\n",
        "%cd $CUSTOM_NODES_DIR\n",
        "\n",
        "![ ! -d $REACTOR_NODES ] && echo -= Initial setup ComfyUI =- && git clone https://github.com/Gourieff/comfyui-reactor-node.git $REACTOR_NODES\n",
        "%cd $REACTOR_NODES\n",
        "!pip install -r requirements.txt\n",
        "\n",
        "%cd $CUSTOM_NODES_DIR\n",
        "\n",
        "![ ! -d $WAS_NODE_SUIT ] && echo -= Initial setup ComfyUI =- && git clone https://github.com/WASasquatch/was-node-suite-comfyui/ $WAS_NODE_SUIT\n",
        "%cd $WAS_NODE_SUIT\n",
        "!pip install -r requirements.txt\n",
        "\n",
        "%cd $WORKSPACE"
      ]
    },
    {
      "cell_type": "code",
      "execution_count": null,
      "metadata": {
        "id": "h1Xe-eUE81qo"
      },
      "outputs": [],
      "source": [
        "# @title civitai login information\n",
        "# civitai api key = d3213e79a69ab67e3cf3299ce0933ef1\n",
        "# &token=d3213e79a69ab67e3cf3299ce0933ef1"
      ]
    },
    {
      "cell_type": "code",
      "execution_count": null,
      "metadata": {
        "id": "Aw-cYaQSn9k4"
      },
      "outputs": [],
      "source": [
        "# @title Install Extension\n",
        "# IMPORT FAILEDになってた拡張の機能を一旦削除\n",
        "# !rm -rf ./custom_nodes/web\n",
        "# !rm -rf ./custom_nodes/ComfyUI-VideoHelperSuite/\n",
        "# !rm -rf ./diffus3\n",
        "# !rm -rf ./web/extensions/diffus3/\n",
        "# !rm -rf ./custom_nodes/comfyui-reactor-node/\n",
        "\n",
        "!git clone https://github.com/diffus3/ComfyUI-extensions ./web/extensions/diffus3/\n",
        "\n",
        "%cd ./custom_nodes\n",
        "!git clone https://github.com/ltdrdata/ComfyUI-Manager.git\n",
        "!git clone https://github.com/Fannovel16/comfyui_controlnet_aux/\n",
        "%cd ../\n"
      ]
    },
    {
      "cell_type": "markdown",
      "metadata": {
        "id": "cccccccccc"
      },
      "source": [
        "Download some models/checkpoints/vae or custom comfyui nodes (uncomment the commands for the ones you want)"
      ]
    },
    {
      "cell_type": "code",
      "execution_count": null,
      "metadata": {
        "id": "dddddddddd"
      },
      "outputs": [],
      "source": [
        "# @title Model Downloads { form-width: \"900px\" }\n",
        "# Checkpoints\n",
        "\n",
        "## get civitai token\n",
        "import os\n",
        "from google.colab import userdata\n",
        "os.environ['CIVITAI_TOKEN'] = userdata.get('CIVITAI_TOKEN')\n",
        "\n",
        "token = os.environ['CIVITAI_TOKEN']\n",
        "\n",
        "### SDXL\n",
        "### I recommend these workflow examples: https://comfyanonymous.github.io/ComfyUI_examples/sdxl/\n",
        "sdxl_10_vae_url = f'https://civitai.com/api/download/models/128078?type=Model&format=SafeTensor&size=pruned&fp=fp16&token={token}'\n",
        "!wget -c sdxl_10_vae_url -O ./models/checkpoints/sdxl_v10VAEFix.safetensors\n",
        "\n",
        "#!wget -c https://huggingface.co/stabilityai/stable-diffusion-xl-base-1.0/resolve/main/sd_xl_base_1.0.safetensors -P ./models/checkpoints/\n",
        "#!wget -c https://huggingface.co/stabilityai/stable-diffusion-xl-refiner-1.0/resolve/main/sd_xl_refiner_1.0.safetensors -P ./models/checkpoints/\n",
        "\n",
        "!wget -c \"https://huggingface.co/frankjoshua/animagineXLV3_v30/resolve/main/animagineXLV3_v30.safetensors?download=true\" -O ./models/checkpoints/animagineXLV3_v30.safetensors\n",
        "\n",
        "## model download\n",
        "!wget -c \"https://civitai.com/api/download/models/138529?type=Model&format=SafeTensor&size=full&fp=fp16\" -O ./models/checkpoints/architectureExterior_v60.safetensors\n",
        "!wget -c \"https://civitai.com/api/download/models/130072?type=Model&format=SafeTensor&size=pruned&fp=fp16\" -O ./models/checkpoints/realisticVisionV51_v51VAE.safetensors\n",
        "!wget -c \"https://civitai.com/api/download/models/72978?type=Model&format=SafeTensor\" -O ./models/loras/CWG_archi_sketch_v1.safetensors\n",
        "\n",
        "\n",
        "!wget -c \"https://civitai.com/api/download/models/175141?type=Model&format=SafeTensor&size=pruned&fp=bf16\" -O ./models/checkpoints/arienMixXL_asian_portrait_v3.safetensors\n",
        "!wget -c \"https://civitai.com/api/download/models/177164?type=Model&format=SafeTensor&size=pruned&fp=fp16\" -O ./models/checkpoints/beautiful_realistic_asian_V7.safetensors\n",
        "!wget -c \"https://civitai.com/api/download/models/85426?type=Model&format=SafeTensor&size=pruned&fp=fp16\" -O ./models/checkpoints/japanese_style_realistic_V2.safetensors\n",
        "!wget -c \"https://civitai.com/api/download/models/150851?type=Model&format=SafeTensor&size=pruned&fp=fp16\" -O ./models/checkpoints/sdxl__leosam_v1.safetensors\n",
        "!wget -c \"https://civitai.com/api/download/models/288911?type=Model&format=SafeTensor&size=pruned&fp=fp16\" -O ./models/checkpoints/BEAUTY_BY_STABLE_YOG_v3_lcm.1_fp16.safetensors\n",
        "!wget -c \"https://civitai.com/api/download/models/375171?token=d3213e79a69ab67e3cf3299ce0933ef1\" -O ./models/checkpoints/again_mix.safetensors\n",
        "\n",
        "sdhk_v_40_chpt_url = f'https://civitai.com/api/download/models/106905?type=Model&format=SafeTensor&size=pruned&fp=fp16&token={token}'\n",
        "!wget -c sdhk_v_40_chpt_url -O ./models/checkpoints/sdhk_v40_chpt.safetensors\n",
        "\n",
        "# SDXL ReVision\n",
        "#!wget -c https://huggingface.co/comfyanonymous/clip_vision_g/resolve/main/clip_vision_g.safetensors -P ./models/clip_vision/\n",
        "\n",
        "# SD1.5\n",
        "!wget -c https://huggingface.co/runwayml/stable-diffusion-v1-5/resolve/main/v1-5-pruned-emaonly.ckpt -P ./models/checkpoints/\n",
        "\n",
        "\n",
        "# pip install\n",
        "!pip install -r requirements.txt\n",
        "\n",
        "# SD2\n",
        "#!wget -c https://huggingface.co/stabilityai/stable-diffusion-2-1-base/resolve/main/v2-1_512-ema-pruned.safetensors -P ./models/checkpoints/\n",
        "#!wget -c https://huggingface.co/stabilityai/stable-diffusion-2-1/resolve/main/v2-1_768-ema-pruned.safetensors -P ./models/checkpoints/\n",
        "\n",
        "# Some SD1.5 anime style\n",
        "#!wget -c https://huggingface.co/WarriorMama777/OrangeMixs/resolve/main/Models/AbyssOrangeMix2/AbyssOrangeMix2_hard.safetensors -P ./models/checkpoints/\n",
        "#!wget -c https://huggingface.co/WarriorMama777/OrangeMixs/resolve/main/Models/AbyssOrangeMix3/AOM3A1_orangemixs.safetensors -P ./models/checkpoints/\n",
        "#!wget -c https://huggingface.co/WarriorMama777/OrangeMixs/resolve/main/Models/AbyssOrangeMix3/AOM3A3_orangemixs.safetensors -P ./models/checkpoints/\n",
        "#!wget -c https://huggingface.co/Linaqruf/anything-v3.0/resolve/main/anything-v3-fp16-pruned.safetensors -P ./models/checkpoints/\n",
        "\n",
        "# Waifu Diffusion 1.5 (anime style SD2.x 768-v)\n",
        "#!wget -c https://huggingface.co/waifu-diffusion/wd-1-5-beta3/resolve/main/wd-illusion-fp16.safetensors -P ./models/checkpoints/\n",
        "\n",
        "\n",
        "# unCLIP models\n",
        "#!wget -c https://huggingface.co/comfyanonymous/illuminatiDiffusionV1_v11_unCLIP/resolve/main/illuminatiDiffusionV1_v11-unclip-h-fp16.safetensors -P ./models/checkpoints/\n",
        "#!wget -c https://huggingface.co/comfyanonymous/wd-1.5-beta2_unCLIP/resolve/main/wd-1-5-beta2-aesthetic-unclip-h-fp16.safetensors -P ./models/checkpoints/\n",
        "\n",
        "\n",
        "# VAE\n",
        "# !wget -c \"https://civitai.com/api/download/models/138529?type=VAE&format=PickleTensor\" -O ./models/vae/vae-ft-mse-840000-ema-pruned.ckpt\n",
        "!wget -c \"https://civitai.com/api/download/models/92870?type=Model&format=SafeTensor\" -O ./models/vae/tone_range_compressor.safetensors\n",
        "!wget -c \"https://civitai.com/api/download/models/143906?type=Model&format=SafeTensor&size=pruned&fp=fp16\" -O ./models/vae/epic_realism_natural_rc.safetosors\n",
        "!wget -c \"https://huggingface.co/stabilityai/sd-vae-ft-mse-original/resolve/main/vae-ft-mse-840000-ema-pruned.safetensors?download=true\" -O ./models/vae/vae-ft-mse-840000-ema-pruned.safetensors\n",
        "#!wget -c https://huggingface.co/WarriorMama777/OrangeMixs/resolve/main/VAEs/orangemix.vae.pt -P ./models/vae/\n",
        "#!wget -c https://huggingface.co/hakurei/waifu-diffusion-v1-4/resolve/main/vae/kl-f8-anime2.ckpt -P ./models/vae/\n",
        "\n",
        "\n",
        "# Loras\n",
        "!wget -c \"https://civitai.com/api/download/models/166325?type=Model&format=SafeTensor\"  -O ./models/loras/cat.safetensors #SDXL offset noise lora\n",
        "#!wget -c https://civitai.com/api/download/models/10350 -O ./models/loras/theovercomer8sContrastFix_sd21768.safetensors #theovercomer8sContrastFix SD2.x 768-v\n",
        "#!wget -c https://civitai.com/api/download/models/10638 -O ./models/loras/theovercomer8sContrastFix_sd15.safetensors #theovercomer8sContrastFix SD1.x\n",
        "\n",
        "\n",
        "# T2I-Adapter\n",
        "#!wget -c https://huggingface.co/TencentARC/T2I-Adapter/resolve/main/models/t2iadapter_depth_sd14v1.pth -P ./models/controlnet/\n",
        "#!wget -c https://huggingface.co/TencentARC/T2I-Adapter/resolve/main/models/t2iadapter_seg_sd14v1.pth -P ./models/controlnet/\n",
        "#!wget -c https://huggingface.co/TencentARC/T2I-Adapter/resolve/main/models/t2iadapter_sketch_sd14v1.pth -P ./models/controlnet/\n",
        "#!wget -c https://huggingface.co/TencentARC/T2I-Adapter/resolve/main/models/t2iadapter_keypose_sd14v1.pth -P ./models/controlnet/\n",
        "#!wget -c https://huggingface.co/TencentARC/T2I-Adapter/resolve/main/models/t2iadapter_openpose_sd14v1.pth -P ./models/controlnet/\n",
        "#!wget -c https://huggingface.co/TencentARC/T2I-Adapter/resolve/main/models/t2iadapter_color_sd14v1.pth -P ./models/controlnet/\n",
        "#!wget -c https://huggingface.co/TencentARC/T2I-Adapter/resolve/main/models/t2iadapter_canny_sd14v1.pth -P ./models/controlnet/\n",
        "\n",
        "# T2I Styles Model\n",
        "#!wget -c https://huggingface.co/TencentARC/T2I-Adapter/resolve/main/models/t2iadapter_style_sd14v1.pth -P ./models/style_models/\n",
        "\n",
        "# CLIPVision model (needed for styles model)\n",
        "#!wget -c https://huggingface.co/openai/clip-vit-large-patch14/resolve/main/pytorch_model.bin -O ./models/clip_vision/clip_vit14.bin\n",
        "\n",
        "\n",
        "# ControlNet\n",
        "!wget -c \"https://huggingface.co/lllyasviel/sd-controlnet-canny/resolve/main/diffusion_pytorch_model.safetensors?download=true\" -O ./models/controlnet/diffusion_pytorch_model.safetensors\n",
        "#!wget -c https://huggingface.co/comfyanonymous/ControlNet-v1-1_fp16_safetensors/resolve/main/control_v11e_sd15_ip2p_fp16.safetensors -P ./models/controlnet/\n",
        "#!wget -c https://huggingface.co/comfyanonymous/ControlNet-v1-1_fp16_safetensors/resolve/main/control_v11e_sd15_shuffle_fp16.safetensors -P ./models/controlnet/\n",
        "#!wget -c https://huggingface.co/comfyanonymous/ControlNet-v1-1_fp16_safetensors/resolve/main/control_v11p_sd15_canny_fp16.safetensors -P ./models/controlnet/\n",
        "#!wget -c https://huggingface.co/comfyanonymous/ControlNet-v1-1_fp16_safetensors/resolve/main/control_v11f1p_sd15_depth_fp16.safetensors -P ./models/controlnet/\n",
        "#!wget -c https://huggingface.co/comfyanonymous/ControlNet-v1-1_fp16_safetensors/resolve/main/control_v11p_sd15_inpaint_fp16.safetensors -P ./models/controlnet/\n",
        "#!wget -c https://huggingface.co/comfyanonymous/ControlNet-v1-1_fp16_safetensors/resolve/main/control_v11p_sd15_lineart_fp16.safetensors -P ./models/controlnet/\n",
        "#!wget -c https://huggingface.co/comfyanonymous/ControlNet-v1-1_fp16_safetensors/resolve/main/control_v11p_sd15_mlsd_fp16.safetensors -P ./models/controlnet/\n",
        "#!wget -c https://huggingface.co/comfyanonymous/ControlNet-v1-1_fp16_safetensors/resolve/main/control_v11p_sd15_normalbae_fp16.safetensors -P ./models/controlnet/\n",
        "#!wget -c https://huggingface.co/comfyanonymous/ControlNet-v1-1_fp16_safetensors/resolve/main/control_v11p_sd15_openpose_fp16.safetensors -P ./models/controlnet/\n",
        "!wget -c https://huggingface.co/comfyanonymous/ControlNet-v1-1_fp16_safetensors/resolve/main/control_v11p_sd15_scribble_fp16.safetensors -P ./models/controlnet/\n",
        "#!wget -c https://huggingface.co/comfyanonymous/ControlNet-v1-1_fp16_safetensors/resolve/main/control_v11p_sd15_seg_fp16.safetensors -P ./models/controlnet/\n",
        "#!wget -c https://huggingface.co/comfyanonymous/ControlNet-v1-1_fp16_safetensors/resolve/main/control_v11p_sd15_softedge_fp16.safetensors -P ./models/controlnet/\n",
        "#!wget -c https://huggingface.co/comfyanonymous/ControlNet-v1-1_fp16_safetensors/resolve/main/control_v11p_sd15s2_lineart_anime_fp16.safetensors -P ./models/controlnet/\n",
        "#!wget -c https://huggingface.co/comfyanonymous/ControlNet-v1-1_fp16_safetensors/resolve/main/control_v11u_sd15_tile_fp16.safetensors -P ./models/controlnet/\n",
        "\n",
        "# ControlNet SDXL\n",
        "#!wget -c https://huggingface.co/stabilityai/control-lora/resolve/main/control-LoRAs-rank256/control-lora-canny-rank256.safetensors -P ./models/controlnet/\n",
        "#!wget -c https://huggingface.co/stabilityai/control-lora/resolve/main/control-LoRAs-rank256/control-lora-depth-rank256.safetensors -P ./models/controlnet/\n",
        "#!wget -c https://huggingface.co/stabilityai/control-lora/resolve/main/control-LoRAs-rank256/control-lora-recolor-rank256.safetensors -P ./models/controlnet/\n",
        "#!wget -c https://huggingface.co/stabilityai/control-lora/resolve/main/control-LoRAs-rank256/control-lora-sketch-rank256.safetensors -P ./models/controlnet/\n",
        "\n",
        "# Controlnet Preprocessor nodes by Fannovel16\n",
        "#!cd custom_nodes && git clone https://github.com/Fannovel16/comfy_controlnet_preprocessors; cd comfy_controlnet_preprocessors && python install.py\n",
        "\n",
        "\n",
        "# GLIGEN\n",
        "#!wget -c https://huggingface.co/comfyanonymous/GLIGEN_pruned_safetensors/resolve/main/gligen_sd14_textbox_pruned_fp16.safetensors -P ./models/gligen/\n",
        "\n",
        "\n",
        "# ESRGAN upscale model\n",
        "#!wget -c https://github.com/xinntao/Real-ESRGAN/releases/download/v0.1.0/RealESRGAN_x4plus.pth -P ./models/upscale_models/\n",
        "#!wget -c https://huggingface.co/sberbank-ai/Real-ESRGAN/resolve/main/RealESRGAN_x2.pth -P ./models/upscale_models/\n",
        "#!wget -c https://huggingface.co/sberbank-ai/Real-ESRGAN/resolve/main/RealESRGAN_x4.pth -P ./models/upscale_models/\n",
        "\n",
        "\n"
      ]
    },
    {
      "cell_type": "markdown",
      "metadata": {
        "id": "kkkkkkkkkkkkkkk"
      },
      "source": [
        "### Run ComfyUI with cloudflared (Recommended Way)\n",
        "\n",
        "\n"
      ]
    },
    {
      "cell_type": "code",
      "execution_count": null,
      "metadata": {
        "id": "jjjjjjjjjjjjjj"
      },
      "outputs": [],
      "source": [
        "!wget https://github.com/cloudflare/cloudflared/releases/latest/download/cloudflared-linux-amd64.deb\n",
        "!dpkg -i cloudflared-linux-amd64.deb\n",
        "\n",
        "import subprocess\n",
        "import threading\n",
        "import time\n",
        "import socket\n",
        "import urllib.request\n",
        "\n",
        "def iframe_thread(port):\n",
        "  while True:\n",
        "      time.sleep(0.5)\n",
        "      sock = socket.socket(socket.AF_INET, socket.SOCK_STREAM)\n",
        "      result = sock.connect_ex(('127.0.0.1', port))\n",
        "      if result == 0:\n",
        "        break\n",
        "      sock.close()\n",
        "  print(\"\\nComfyUI finished loading, trying to launch cloudflared (if it gets stuck here cloudflared is having issues)\\n\")\n",
        "\n",
        "  p = subprocess.Popen([\"cloudflared\", \"tunnel\", \"--url\", \"http://127.0.0.1:{}\".format(port)], stdout=subprocess.PIPE, stderr=subprocess.PIPE)\n",
        "  for line in p.stderr:\n",
        "    l = line.decode()\n",
        "    if \"trycloudflare.com \" in l:\n",
        "      print(\"This is the URL to access ComfyUI:\", l[l.find(\"http\"):], end='')\n",
        "    #print(l, end='')\n",
        "\n",
        "\n",
        "threading.Thread(target=iframe_thread, daemon=True, args=(8188,)).start()\n",
        "\n",
        "!python main.py --dont-print-server"
      ]
    },
    {
      "cell_type": "markdown",
      "metadata": {
        "id": "kkkkkkkkkkkkkk"
      },
      "source": [
        "### Run ComfyUI with localtunnel\n",
        "\n",
        "\n"
      ]
    },
    {
      "cell_type": "code",
      "execution_count": null,
      "metadata": {
        "colab": {
          "base_uri": "https://localhost:8080/"
        },
        "id": "jjjjjjjjjjjjj",
        "outputId": "f6b805f3-5641-44d3-c9cc-acb173ba0e2f"
      },
      "outputs": [
        {
          "name": "stdout",
          "output_type": "stream",
          "text": [
            "\u001b[K\u001b[?25h/tools/node/bin/lt -> /tools/node/lib/node_modules/localtunnel/bin/lt.js\n",
            "\u001b[K\u001b[?25h+ localtunnel@2.0.2\n",
            "added 22 packages from 22 contributors in 2.79s\n",
            "** ComfyUI startup time: 2024-03-14 13:16:12.089242\n",
            "** Platform: Linux\n",
            "** Python version: 3.10.12 (main, Nov 20 2023, 15:14:05) [GCC 11.4.0]\n",
            "** Python executable: /usr/bin/python3\n",
            "** Log path: /content/drive/MyDrive/ComfyUI-V2/comfyui.log\n",
            "\n",
            "Prestartup times for custom nodes:\n",
            "   0.1 seconds: /content/drive/MyDrive/ComfyUI-V2/custom_nodes/ComfyUI-Manager\n",
            "\n",
            "Total VRAM 16151 MB, total RAM 12979 MB\n",
            "WARNING[XFORMERS]: xFormers can't load C++/CUDA extensions. xFormers was built for:\n",
            "    PyTorch 2.2.0+cu118 with CUDA 1108 (you have 2.2.0+cu121)\n",
            "    Python  3.10.13 (you have 3.10.12)\n",
            "  Please reinstall xformers (see https://github.com/facebookresearch/xformers#installing-xformers)\n",
            "  Memory-efficient attention, SwiGLU, sparse and more won't be available.\n",
            "  Set XFORMERS_MORE_DETAILS=1 for more details\n",
            "xformers version: 0.0.24+cu118\n",
            "Set vram state to: NORMAL_VRAM\n",
            "Device: cuda:0 Tesla V100-SXM2-16GB : cudaMallocAsync\n",
            "VAE dtype: torch.float32\n",
            "Using pytorch cross attention\n",
            "### Loading: ComfyUI-Manager (V2.10)\n",
            "### ComfyUI Revision: 2011 [10847dfa] | Released on '2024-02-23'\n",
            "\u001b[36;20m[comfyui_controlnet_aux] | INFO -> Using ckpts path: /content/drive/MyDrive/ComfyUI-V2/custom_nodes/comfyui_controlnet_aux/ckpts\u001b[0m\n",
            "\u001b[36;20m[comfyui_controlnet_aux] | INFO -> Using symlinks: False\u001b[0m\n",
            "\u001b[36;20m[comfyui_controlnet_aux] | INFO -> Using ort providers: ['CUDAExecutionProvider', 'DirectMLExecutionProvider', 'OpenVINOExecutionProvider', 'ROCMExecutionProvider', 'CPUExecutionProvider', 'CoreMLExecutionProvider']\u001b[0m\n",
            "[ComfyUI-Manager] default cache updated: https://raw.githubusercontent.com/ltdrdata/ComfyUI-Manager/main/model-list.json\n",
            "[ComfyUI-Manager] default cache updated: https://raw.githubusercontent.com/ltdrdata/ComfyUI-Manager/main/alter-list.json\n",
            "[ComfyUI-Manager] default cache updated: https://raw.githubusercontent.com/ltdrdata/ComfyUI-Manager/main/custom-node-list.json\n",
            "[ComfyUI-Manager] default cache updated: https://raw.githubusercontent.com/ltdrdata/ComfyUI-Manager/main/extension-node-map.json\n",
            "DWPose: Onnxruntime with acceleration providers detected\n",
            "### Loading: ComfyUI-Impact-Pack (V4.83.4)\n",
            "[Impact Pack] ComfyUI is an outdated version. The DifferentialDiffusion feature will be disabled.\n",
            "### Loading: ComfyUI-Impact-Pack (Subpack: V0.4)\n",
            "[Impact Pack] ComfyUI is an outdated version. The DifferentialDiffusion feature will be disabled.\n",
            "[Impact Pack] Wildcards loading done.\n",
            "\u001b[0;33m[ReActor]\u001b[0m - \u001b[38;5;173mSTATUS\u001b[0m - \u001b[0;32mRunning v0.4.1-b12 in ComfyUI\u001b[0m\n",
            "Torch version: 2.2.0+cu121\n",
            "\n",
            "Import times for custom nodes:\n",
            "   0.1 seconds: /content/drive/MyDrive/ComfyUI-V2/custom_nodes/ComfyUI-Advanced-ControlNet\n",
            "   0.2 seconds: /content/drive/MyDrive/ComfyUI-V2/custom_nodes/ComfyUI-KJNodes\n",
            "   0.6 seconds: /content/drive/MyDrive/ComfyUI-V2/custom_nodes/ComfyUI-Manager\n",
            "   0.8 seconds: /content/drive/MyDrive/ComfyUI-V2/custom_nodes/ComfyUI-Impact-Pack\n",
            "   1.1 seconds: /content/drive/MyDrive/ComfyUI-V2/custom_nodes/comfyui_controlnet_aux\n",
            "   1.5 seconds: /content/drive/MyDrive/ComfyUI-V2/custom_nodes/comfyui-reactor-node\n",
            "\n",
            "\n",
            "ComfyUI finished loading, trying to launch localtunnel (if it gets stuck here localtunnel is having issues)\n",
            "\n",
            "The password/enpoint ip for localtunnel is: 34.147.125.169\n",
            "your url is: https://mean-pandas-bow.loca.lt\n",
            "\n",
            "Stopped server\n",
            "Exception ignored in atexit callback: <function dump_compile_times at 0x7cc9f3469d80>\n",
            "Traceback (most recent call last):\n",
            "  File \"/usr/local/lib/python3.10/dist-packages/torch/_dynamo/utils.py\", line 302, in dump_compile_times\n",
            "    log.info(compile_times(repr=\"str\", aggregate=True))\n",
            "  File \"/usr/local/lib/python3.10/dist-packages/torch/_dynamo/utils.py\", line 289, in compile_times\n",
            "    out += tabulate(rows, headers=(\"Function\", \"Runtimes (s)\"))\n",
            "  File \"/usr/local/lib/python3.10/dist-packages/torch/_dynamo/utils.py\", line 114, in tabulate\n",
            "    import tabulate\n",
            "  File \"<frozen importlib._bootstrap>\", line 1027, in _find_and_load\n",
            "  File \"<frozen importlib._bootstrap>\", line 1002, in _find_and_load_unlocked\n",
            "  File \"<frozen importlib._bootstrap>\", line 945, in _find_spec\n",
            "  File \"<frozen importlib._bootstrap_external>\", line 1439, in find_spec\n",
            "  File \"<frozen importlib._bootstrap_external>\", line 1411, in _get_spec\n",
            "  File \"<frozen importlib._bootstrap_external>\", line 1544, in find_spec\n",
            "  File \"<frozen importlib._bootstrap_external>\", line 147, in _path_stat\n",
            "KeyboardInterrupt: \n",
            "^C\n"
          ]
        }
      ],
      "source": [
        "!npm install -g localtunnel\n",
        "\n",
        "import subprocess\n",
        "import threading\n",
        "import time\n",
        "import socket\n",
        "import urllib.request\n",
        "\n",
        "def iframe_thread(port):\n",
        "  while True:\n",
        "      time.sleep(0.5)\n",
        "      sock = socket.socket(socket.AF_INET, socket.SOCK_STREAM)\n",
        "      result = sock.connect_ex(('127.0.0.1', port))\n",
        "      if result == 0:\n",
        "        break\n",
        "      sock.close()\n",
        "  print(\"\\nComfyUI finished loading, trying to launch localtunnel (if it gets stuck here localtunnel is having issues)\\n\")\n",
        "\n",
        "  print(\"The password/enpoint ip for localtunnel is:\", urllib.request.urlopen('https://ipv4.icanhazip.com').read().decode('utf8').strip(\"\\n\"))\n",
        "  p = subprocess.Popen([\"lt\", \"--port\", \"{}\".format(port)], stdout=subprocess.PIPE)\n",
        "  for line in p.stdout:\n",
        "    print(line.decode(), end='')\n",
        "\n",
        "\n",
        "threading.Thread(target=iframe_thread, daemon=True, args=(8188,)).start()\n",
        "\n",
        "!python main.py --dont-print-server"
      ]
    },
    {
      "cell_type": "markdown",
      "metadata": {
        "id": "gggggggggg"
      },
      "source": [
        "### Run ComfyUI with colab iframe (use only in case the previous way with localtunnel doesn't work)\n",
        "\n",
        "You should see the ui appear in an iframe. If you get a 403 error, it's your firefox settings or an extension that's messing things up.\n",
        "\n",
        "If you want to open it in another window use the link.\n",
        "\n",
        "Note that some UI features like live image previews won't work because the colab iframe blocks websockets."
      ]
    },
    {
      "cell_type": "code",
      "execution_count": null,
      "metadata": {
        "colab": {
          "base_uri": "https://localhost:8080/"
        },
        "id": "hhhhhhhhhh",
        "outputId": "fc4e065f-919a-493e-a749-3b92b85fd3e5"
      },
      "outputs": [
        {
          "name": "stdout",
          "output_type": "stream",
          "text": [
            "python3: can't open file '/content/drive/MyDrive/main.py': [Errno 2] No such file or directory\n"
          ]
        }
      ],
      "source": [
        "import threading\n",
        "import time\n",
        "import socket\n",
        "def iframe_thread(port):\n",
        "  while True:\n",
        "      time.sleep(0.5)\n",
        "      sock = socket.socket(socket.AF_INET, socket.SOCK_STREAM)\n",
        "      result = sock.connect_ex(('127.0.0.1', port))\n",
        "      if result == 0:\n",
        "        break\n",
        "      sock.close()\n",
        "  from google.colab import output\n",
        "  output.serve_kernel_port_as_iframe(port, height=1024)\n",
        "  print(\"to open it in a window you can open this link here:\")\n",
        "  output.serve_kernel_port_as_window(port)\n",
        "\n",
        "threading.Thread(target=iframe_thread, daemon=True, args=(8188,)).start()\n",
        "\n",
        "!python main.py --dont-print-server"
      ]
    }
  ],
  "metadata": {
    "accelerator": "GPU",
    "colab": {
      "collapsed_sections": [
        "kkkkkkkkkkkkkk",
        "gggggggggg"
      ],
      "gpuType": "A100",
      "machine_shape": "hm",
      "provenance": [],
      "include_colab_link": true
    },
    "kernelspec": {
      "display_name": "Python 3",
      "name": "python3"
    },
    "language_info": {
      "name": "python"
    }
  },
  "nbformat": 4,
  "nbformat_minor": 0
}